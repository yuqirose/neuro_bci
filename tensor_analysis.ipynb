{
 "cells": [
  {
   "cell_type": "markdown",
   "metadata": {},
   "source": [
    "###  import data"
   ]
  },
  {
   "cell_type": "code",
   "execution_count": 5,
   "metadata": {},
   "outputs": [
    {
     "data": {
      "text/plain": [
       "dict_keys(['#refs#', 'SessionDay', 'sdata', 'state', 'target', 'trialTimes'])"
      ]
     },
     "execution_count": 5,
     "metadata": {},
     "output_type": "execute_result"
    }
   ],
   "source": [
    "import h5py\n",
    "import numpy as np\n",
    "\n",
    "data_path = \"/Users/roseyu/Downloads/Data/neuro_data/\"\n",
    "file_name = \"SharedData.mat\"\n",
    "arrays = {}\n",
    "\n",
    "f= h5py.File(data_path+file_name, 'r')\n",
    "for k, v in f.items():\n",
    "    arrays[k] = np.array(v)\n",
    "    \n",
    "arrays.keys()"
   ]
  },
  {
   "cell_type": "markdown",
   "metadata": {},
   "source": [
    "### data format\n",
    "Session: S=14, Trial: T=56, Array: A=2 \n",
    "\n",
    "SessionDay: Sx1      sdata:AxTxS   state:TxS   target: Sx1   trialTimes: Sx1"
   ]
  },
  {
   "cell_type": "code",
   "execution_count": 6,
   "metadata": {},
   "outputs": [
    {
     "data": {
      "text/plain": [
       "dict_keys(['Channels', 'Electrodes', 'PacketIdx', 'RecordingBlock', 'Timestamps', 'Units', 'Waveforms'])"
      ]
     },
     "execution_count": 6,
     "metadata": {},
     "output_type": "execute_result"
    }
   ],
   "source": [
    "#prediction for one session and one trial\n",
    "s_id = 0\n",
    "y_ref =arrays['target'][s_id,0]\n",
    "target_s = f[y_ref][()]\n",
    "n_trial_s = len(target_s)\n",
    "\n",
    "a_id = 0 #first electro-array\n",
    "x_ref= arrays['sdata'][a_id,0:n_trial_s,s_id]\n",
    "\n",
    "t_id = 0\n",
    "ts_s = f[x_ref[t_id]]\n",
    "\n",
    "sd_arrays = {}\n",
    "for k, v in ts_s.items():\n",
    "    sd_arrays[k] = np.array(v)\n",
    "sd_arrays.keys()"
   ]
  },
  {
   "cell_type": "markdown",
   "metadata": {},
   "source": [
    "### Read, Encode Spikes\n",
    "\n",
    "read electrodes data and use one hot encoding for the spikes"
   ]
  },
  {
   "cell_type": "code",
   "execution_count": 7,
   "metadata": {
    "collapsed": true
   },
   "outputs": [],
   "source": [
    "import sklearn \n",
    "from sklearn.preprocessing import OneHotEncoder\n",
    "import pandas as pd\n",
    "\n",
    "# transform electro into binary feature\n",
    "def encode(electrodes):\n",
    "    enc =  OneHotEncoder()\n",
    "    enc.fit(electrodes.transpose())\n",
    "    one_hot_electro = enc.transform(electrodes.transpose()).toarray()\n",
    "    return one_hot_electro\n",
    "\n",
    "def read_sdata(a_id,t_id, s_id):\n",
    "    \"\"\"Args: \n",
    "           array id, trial id, session id\n",
    "       Return:\n",
    "           one hot encoding of electros\n",
    "        \"\"\"\n",
    "    x_ref= arrays['sdata'][a_id,t_id,s_id]\n",
    "    ts_s = f[x_ref]\n",
    "    sd_arrays = {}\n",
    "    for k, v in ts_s.items():\n",
    "        sd_arrays[k] = np.array(v)\n",
    "    #wave_forms = sd_arrays['Waveforms']\n",
    "    #wave_ts = pd.DataFrame(wave_forms, index = time_stamps.squeeze())\n",
    "    #wave_ts.join(electro)\n",
    "    electro = encode(sd_arrays['Electrodes'])\n",
    "    time_stamps = sd_arrays['Timestamps'].transpose()\n",
    "#     electro_ts = pd.DataFrame((electro), index = time_stamps.squeeze())\n",
    "    return np.concatenate((time_stamps, electro),axis=1)"
   ]
  },
  {
   "cell_type": "markdown",
   "metadata": {},
   "source": [
    "### form tensor regression input/output\n",
    "\n",
    "* use electrodes as features\n",
    "* use targets as labels"
   ]
  },
  {
   "cell_type": "code",
   "execution_count": 14,
   "metadata": {},
   "outputs": [],
   "source": [
    "# extract features\n",
    "y_ref =arrays['target'][s_id,0]\n",
    "target_s = f[y_ref][()]\n",
    "n_trial_s = len(target_s)\n",
    "y = target_s.squeeze()\n",
    "\n",
    "n_sample = n_trial_s\n",
    "spikes =[]\n",
    "n_spike = np.zeros((n_trial_s))\n",
    "for t_id in range(n_trial_s):\n",
    "    x_i = read_sdata(a_id,t_id, s_id)\n",
    "    spikes.append(x_i)\n",
    "    n_spike[t_id] = len(x_i)"
   ]
  },
  {
   "cell_type": "code",
   "execution_count": 9,
   "metadata": {},
   "outputs": [],
   "source": [
    "min_n_spike = np.min(n_spike).astype(int)\n",
    "n_electro = 96\n",
    "\n",
    "# simple truncation\n",
    "# TBD: histcount with time interval\n",
    "\n",
    "X = np.zeros((n_trial_s, min_n_spike, n_electro+1))\n",
    "for t in range(n_trial_s):\n",
    "    X[t,:,:] = spikes[t][:min_n_spike,:]"
   ]
  },
  {
   "cell_type": "markdown",
   "metadata": {},
   "source": [
    "### fit a regression model"
   ]
  },
  {
   "cell_type": "code",
   "execution_count": null,
   "metadata": {},
   "outputs": [],
   "source": [
    "# build predictive model\n",
    "from tensorly.regression.kruskal_regression import KruskalRegressor\n",
    "import tensorly.backend as T\n",
    "\n",
    "X = T.tensor(X)\n",
    "y = T.tensor(y)\n",
    "\n",
    "rank = 2\n",
    "estimator = KruskalRegressor(weight_rank=rank, tol=10e-7, n_iter_max=10, reg_W=1, verbose=0)\n",
    "estimator.fit(X, y)"
   ]
  },
  {
   "cell_type": "markdown",
   "metadata": {},
   "source": [
    "### latent factors "
   ]
  },
  {
   "cell_type": "code",
   "execution_count": 44,
   "metadata": {},
   "outputs": [
    {
     "name": "stdout",
     "output_type": "stream",
     "text": [
      "<class 'numpy.ndarray'>\n"
     ]
    }
   ],
   "source": [
    "res =estimator.kruskal_weight_\n",
    "electro_latent = T.to_numpy(res[1])"
   ]
  },
  {
   "cell_type": "code",
   "execution_count": 49,
   "metadata": {},
   "outputs": [
    {
     "data": {
      "image/png": "[encoded data removed]",
      "text/plain": [
       "<matplotlib.figure.Figure at 0x1a1ec7c7f0>"
      ]
     },
     "metadata": {},
     "output_type": "display_data"
    }
   ],
   "source": [
    "import matplotlib.pyplot as plt\n",
    "\n",
    "%matplotlib inline\n",
    "fig = plt.figure()\n",
    "ax = fig.add_subplot(1, 1,1)\n",
    "ax.scatter(electro_latent[:,0],electro_latent[:,1], np.linspace(0,96),cmap=plt.cm.OrRd)\n",
    "ax.set_axis_off()"
   ]
  }
 ],
 "metadata": {
  "kernelspec": {
   "display_name": "Python 3",
   "language": "python",
   "name": "python3"
  },
  "language_info": {
   "codemirror_mode": {
    "name": "ipython",
    "version": 3
   },
   "file_extension": ".py",
   "mimetype": "text/x-python",
   "name": "python",
   "nbconvert_exporter": "python",
   "pygments_lexer": "ipython3",
   "version": "3.6.1"
  }
 },
 "nbformat": 4,
 "nbformat_minor": 2
}
